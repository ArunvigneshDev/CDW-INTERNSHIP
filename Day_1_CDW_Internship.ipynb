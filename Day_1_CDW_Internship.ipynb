{
 "cells": [
  {
   "cell_type": "markdown",
   "metadata": {},
   "source": [
    "PIPELINE TO PERFORM THE STOP WORDS AND LEMMATIZATION"
   ]
  },
  {
   "cell_type": "code",
   "execution_count": 1,
   "metadata": {},
   "outputs": [
    {
     "name": "stderr",
     "output_type": "stream",
     "text": [
      "[nltk_data] Downloading package stopwords to\n",
      "[nltk_data]     C:\\Users\\arunv\\AppData\\Roaming\\nltk_data...\n",
      "[nltk_data]   Package stopwords is already up-to-date!\n",
      "[nltk_data] Downloading package punkt to\n",
      "[nltk_data]     C:\\Users\\arunv\\AppData\\Roaming\\nltk_data...\n",
      "[nltk_data]   Package punkt is already up-to-date!\n",
      "[nltk_data] Downloading package wordnet to\n",
      "[nltk_data]     C:\\Users\\arunv\\AppData\\Roaming\\nltk_data...\n",
      "[nltk_data]   Package wordnet is already up-to-date!\n"
     ]
    },
    {
     "name": "stdout",
     "output_type": "stream",
     "text": [
      "[['la', 'vega', ',', 'colloquially', 'referred', 'vega', ',', 'populous', 'city', 'u.s.', 'state', 'nevada', 'seat', 'clark', 'county', '.'], ['la', 'vega', 'valley', 'metropolitan', 'area', 'largest', 'within', 'greater', 'mojave', 'desert', ',', 'second-largest', 'southwestern', 'united', 'state', '.'], ['la', 'vega', 'internationally', 'renowned', 'major', 'resort', 'city', ',', 'known', 'primarily', 'gambling', ',', 'shopping', ',', 'fine', 'dining', ',', 'entertainment', ',', 'nightlife', ',', 'venue', 'centered', 'downtown', 'la', 'vega', 'la', 'vega', 'strip', 'outside', 'city', 'limit', '.'], ['la', 'vega', 'valley', 'whole', 'serf', 'leading', 'financial', ',', 'commercial', ',', 'cultural', 'center', 'nevada', '.'], ['according', 'united', 'state', 'census', 'bureau', ',', 'city', '641,903', 'resident', '2020', ',', 'metropolitan', 'population', '2,227,053', ',', 'making', '24th-most', 'populous', 'city', 'united', 'state', '.']]\n"
     ]
    }
   ],
   "source": [
    "from nltk.tokenize import word_tokenize, sent_tokenize\n",
    "from nltk.corpus import stopwords\n",
    "from nltk.stem import WordNetLemmatizer\n",
    "import nltk\n",
    "\n",
    "nltk.download('stopwords')\n",
    "nltk.download('punkt')\n",
    "nltk.download('wordnet')\n",
    "\n",
    "my_text = \"\"\"Las Vegas, colloquially referred to as Vegas, is the most populous city in the U.S. state of Nevada and the seat of Clark County.\n",
    "The Las Vegas Valley metropolitan area is the largest within the greater Mojave Desert, and second-largest in the Southwestern United States.\n",
    "Las Vegas is an internationally renowned major resort city, known primarily for its gambling, shopping, fine dining, entertainment, and nightlife, with most venues centered on downtown Las Vegas and more to the Las Vegas Strip just outside city limits.\n",
    "The Las Vegas Valley as a whole serves as the leading financial, commercial, and cultural center in Nevada.\n",
    "According to the United States Census Bureau, the city had 641,903 residents in 2020, with a metropolitan population of 2,227,053, making it the 24th-most populous city in the United States.\"\"\"\n",
    "\n",
    "my_sentences = sent_tokenize(my_text)\n",
    "\n",
    "def pipeline(my_sentences):\n",
    "    stop_words = set(stopwords.words(\"english\"))\n",
    "\n",
    "    lemmatizer = WordNetLemmatizer()\n",
    "\n",
    "    filtered_sentences = []\n",
    "    for sentence in my_sentences:\n",
    "        words = word_tokenize(sentence)  \n",
    "        filtered_words = [lemmatizer.lemmatize(word.lower()) for word in words if word.lower() not in stop_words]  # Lemmatize and remove stopwords\n",
    "        filtered_sentences.append(filtered_words)\n",
    "\n",
    "    return filtered_sentences\n",
    "\n",
    "print(pipeline(my_sentences))\n",
    "    \n"
   ]
  }
 ],
 "metadata": {
  "kernelspec": {
   "display_name": "myvenv",
   "language": "python",
   "name": "python3"
  },
  "language_info": {
   "codemirror_mode": {
    "name": "ipython",
    "version": 3
   },
   "file_extension": ".py",
   "mimetype": "text/x-python",
   "name": "python",
   "nbconvert_exporter": "python",
   "pygments_lexer": "ipython3",
   "version": "3.12.3"
  }
 },
 "nbformat": 4,
 "nbformat_minor": 2
}
